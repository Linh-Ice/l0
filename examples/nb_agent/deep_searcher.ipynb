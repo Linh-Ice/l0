{
 "cells": [
  {
   "cell_type": "markdown",
   "id": "d9644d7c",
   "metadata": {},
   "source": [
    "# An example to use NBAgent as a deep searcher."
   ]
  },
  {
   "cell_type": "code",
   "execution_count": null,
   "id": "350814c1",
   "metadata": {},
   "outputs": [],
   "source": [
    "# Since agent need to use some tools, we need to load necessary environment variables.\n",
    "import dotenv\n",
    "\n",
    "dotenv.load_dotenv()"
   ]
  },
  {
   "cell_type": "code",
   "execution_count": null,
   "id": "2603e560",
   "metadata": {},
   "outputs": [],
   "source": [
    "import os\n",
    "\n",
    "from prompt import DEEP_SEARCHER_SYS_PROMPT\n",
    "from nbagent.agents import NBAgent\n",
    "from nbagent.models import OpenAIServerModel"
   ]
  },
  {
   "cell_type": "code",
   "execution_count": null,
   "id": "ec4c05e7",
   "metadata": {},
   "outputs": [],
   "source": [
    "MODEL_ID = \"enter your model_id here\"\n",
    "INFERENCE_ENDPOINT = \"enter your inference endpoint here\"\n",
    "API_KEY = \"enter your api_key here\""
   ]
  },
  {
   "cell_type": "code",
   "execution_count": null,
   "id": "36f12df5",
   "metadata": {},
   "outputs": [],
   "source": [
    "task = \"enter your task here\""
   ]
  },
  {
   "cell_type": "code",
   "execution_count": null,
   "id": "a6f74ad1",
   "metadata": {},
   "outputs": [],
   "source": [
    "# Initialize the OpenAI server model\n",
    "model = OpenAIServerModel(\n",
    "    model_id=MODEL_ID,\n",
    "    base_url=INFERENCE_ENDPOINT,\n",
    "    api_key=API_KEY\n",
    ")\n",
    "# Initialize the NBAgent with the model and other configurations\n",
    "deep_searcher = NBAgent(\n",
    "    model=model,\n",
    "    max_tokens=20000,\n",
    "    max_response_length=3096,\n",
    "    custom_system_prompt=DEEP_SEARCHER_SYS_PROMPT,\n",
    "    tool_specs={\n",
    "        \"web_search_tool_factory\": {\"serper_api_key\": os.getenv(\"SERPER_API_KEY\"), \"max_text_limitation\": 1000},\n",
    "        \"jina_reader_tool_factory\": {\"api_key\": os.getenv(\"JINA_API_KEY\"), \"token_budget\": 100000},\n",
    "    }\n",
    ")"
   ]
  },
  {
   "cell_type": "code",
   "execution_count": null,
   "id": "fbd53323",
   "metadata": {},
   "outputs": [],
   "source": [
    "step_iterator = deep_searcher.run(\n",
    "    task=task,\n",
    "    max_steps=20,\n",
    "    stream=True,\n",
    ")"
   ]
  },
  {
   "cell_type": "code",
   "execution_count": null,
   "id": "05ca90b2",
   "metadata": {},
   "outputs": [],
   "source": [
    "step_idx = 0\n",
    "while True:\n",
    "    step_idx += 1\n",
    "    try:\n",
    "        step = next(step_iterator)\n",
    "        print(\"\\n\" + \"=\"*60)\n",
    "        print(f\"🚀 Step {step_idx}\")\n",
    "        print(\"=\"*60)\n",
    "        \n",
    "        if not step.action.code or not step.action.think:\n",
    "            print(\"\\n📄 Full Response:\")\n",
    "            print(\"-\" * 40)\n",
    "            print(step.action.full_response)\n",
    "            \n",
    "        if step.action.think:\n",
    "            print(\"\\n💭 Thought:\")\n",
    "            print(\"-\" * 40)\n",
    "            print(step.action.think)\n",
    "            \n",
    "        if step.action.code:\n",
    "            print(\"\\n💻 Code:\")\n",
    "            print(\"-\" * 40)\n",
    "            print(step.action.code)\n",
    "            \n",
    "        if step.observations:\n",
    "            print(\"\\n👀 Observation:\")\n",
    "            print(\"-\" * 40)\n",
    "            print(step.observations)\n",
    "            \n",
    "    except StopIteration:\n",
    "        print(\"\\n\" + \"=\"*60)\n",
    "        print(\"✅ Task completed successfully!\")\n",
    "        print(\"=\"*60)\n",
    "        break"
   ]
  }
 ],
 "metadata": {
  "kernelspec": {
   "display_name": "dev",
   "language": "python",
   "name": "python3"
  },
  "language_info": {
   "codemirror_mode": {
    "name": "ipython",
    "version": 3
   },
   "file_extension": ".py",
   "mimetype": "text/x-python",
   "name": "python",
   "nbconvert_exporter": "python",
   "pygments_lexer": "ipython3",
   "version": "3.10.18"
  }
 },
 "nbformat": 4,
 "nbformat_minor": 5
}
